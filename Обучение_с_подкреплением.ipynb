{
  "nbformat": 4,
  "nbformat_minor": 0,
  "metadata": {
    "colab": {
      "name": "Обучение с подкреплением.ipynb",
      "provenance": [],
      "machine_shape": "hm",
      "collapsed_sections": [],
      "authorship_tag": "ABX9TyMWGE71e+FNhKsBKSiyfevw",
      "include_colab_link": true
    },
    "kernelspec": {
      "name": "python3",
      "display_name": "Python 3"
    },
    "language_info": {
      "name": "python"
    },
    "accelerator": "GPU"
  },
  "cells": [
    {
      "cell_type": "markdown",
      "metadata": {
        "id": "view-in-github",
        "colab_type": "text"
      },
      "source": [
        "<a href=\"https://colab.research.google.com/github/Tlen33/Reinforcement-learning/blob/main/%D0%9E%D0%B1%D1%83%D1%87%D0%B5%D0%BD%D0%B8%D0%B5_%D1%81_%D0%BF%D0%BE%D0%B4%D0%BA%D1%80%D0%B5%D0%BF%D0%BB%D0%B5%D0%BD%D0%B8%D0%B5%D0%BC.ipynb\" target=\"_parent\"><img src=\"https://colab.research.google.com/assets/colab-badge.svg\" alt=\"Open In Colab\"/></a>"
      ]
    },
    {
      "cell_type": "code",
      "execution_count": null,
      "metadata": {
        "id": "G3ebJYydbjiZ",
        "colab": {
          "base_uri": "https://localhost:8080/"
        },
        "outputId": "61923e2f-9ec7-47c9-8ba6-477dc1e8b018"
      },
      "outputs": [
        {
          "output_type": "stream",
          "name": "stdout",
          "text": [
            "Collecting gym==0.18.3\n",
            "  Downloading gym-0.18.3.tar.gz (1.6 MB)\n",
            "\u001b[?25l\r\u001b[K     |▏                               | 10 kB 32.6 MB/s eta 0:00:01\r\u001b[K     |▍                               | 20 kB 16.8 MB/s eta 0:00:01\r\u001b[K     |▋                               | 30 kB 14.3 MB/s eta 0:00:01\r\u001b[K     |▉                               | 40 kB 13.1 MB/s eta 0:00:01\r\u001b[K     |█                               | 51 kB 6.8 MB/s eta 0:00:01\r\u001b[K     |█▎                              | 61 kB 7.3 MB/s eta 0:00:01\r\u001b[K     |█▌                              | 71 kB 7.6 MB/s eta 0:00:01\r\u001b[K     |█▋                              | 81 kB 8.5 MB/s eta 0:00:01\r\u001b[K     |█▉                              | 92 kB 8.6 MB/s eta 0:00:01\r\u001b[K     |██                              | 102 kB 6.8 MB/s eta 0:00:01\r\u001b[K     |██▎                             | 112 kB 6.8 MB/s eta 0:00:01\r\u001b[K     |██▌                             | 122 kB 6.8 MB/s eta 0:00:01\r\u001b[K     |██▊                             | 133 kB 6.8 MB/s eta 0:00:01\r\u001b[K     |███                             | 143 kB 6.8 MB/s eta 0:00:01\r\u001b[K     |███▏                            | 153 kB 6.8 MB/s eta 0:00:01\r\u001b[K     |███▎                            | 163 kB 6.8 MB/s eta 0:00:01\r\u001b[K     |███▌                            | 174 kB 6.8 MB/s eta 0:00:01\r\u001b[K     |███▊                            | 184 kB 6.8 MB/s eta 0:00:01\r\u001b[K     |████                            | 194 kB 6.8 MB/s eta 0:00:01\r\u001b[K     |████▏                           | 204 kB 6.8 MB/s eta 0:00:01\r\u001b[K     |████▍                           | 215 kB 6.8 MB/s eta 0:00:01\r\u001b[K     |████▋                           | 225 kB 6.8 MB/s eta 0:00:01\r\u001b[K     |████▉                           | 235 kB 6.8 MB/s eta 0:00:01\r\u001b[K     |█████                           | 245 kB 6.8 MB/s eta 0:00:01\r\u001b[K     |█████▏                          | 256 kB 6.8 MB/s eta 0:00:01\r\u001b[K     |█████▍                          | 266 kB 6.8 MB/s eta 0:00:01\r\u001b[K     |█████▋                          | 276 kB 6.8 MB/s eta 0:00:01\r\u001b[K     |█████▉                          | 286 kB 6.8 MB/s eta 0:00:01\r\u001b[K     |██████                          | 296 kB 6.8 MB/s eta 0:00:01\r\u001b[K     |██████▎                         | 307 kB 6.8 MB/s eta 0:00:01\r\u001b[K     |██████▌                         | 317 kB 6.8 MB/s eta 0:00:01\r\u001b[K     |██████▋                         | 327 kB 6.8 MB/s eta 0:00:01\r\u001b[K     |██████▉                         | 337 kB 6.8 MB/s eta 0:00:01\r\u001b[K     |███████                         | 348 kB 6.8 MB/s eta 0:00:01\r\u001b[K     |███████▎                        | 358 kB 6.8 MB/s eta 0:00:01\r\u001b[K     |███████▌                        | 368 kB 6.8 MB/s eta 0:00:01\r\u001b[K     |███████▊                        | 378 kB 6.8 MB/s eta 0:00:01\r\u001b[K     |████████                        | 389 kB 6.8 MB/s eta 0:00:01\r\u001b[K     |████████▏                       | 399 kB 6.8 MB/s eta 0:00:01\r\u001b[K     |████████▎                       | 409 kB 6.8 MB/s eta 0:00:01\r\u001b[K     |████████▌                       | 419 kB 6.8 MB/s eta 0:00:01\r\u001b[K     |████████▊                       | 430 kB 6.8 MB/s eta 0:00:01\r\u001b[K     |█████████                       | 440 kB 6.8 MB/s eta 0:00:01\r\u001b[K     |█████████▏                      | 450 kB 6.8 MB/s eta 0:00:01\r\u001b[K     |█████████▍                      | 460 kB 6.8 MB/s eta 0:00:01\r\u001b[K     |█████████▋                      | 471 kB 6.8 MB/s eta 0:00:01\r\u001b[K     |█████████▉                      | 481 kB 6.8 MB/s eta 0:00:01\r\u001b[K     |██████████                      | 491 kB 6.8 MB/s eta 0:00:01\r\u001b[K     |██████████▏                     | 501 kB 6.8 MB/s eta 0:00:01\r\u001b[K     |██████████▍                     | 512 kB 6.8 MB/s eta 0:00:01\r\u001b[K     |██████████▋                     | 522 kB 6.8 MB/s eta 0:00:01\r\u001b[K     |██████████▉                     | 532 kB 6.8 MB/s eta 0:00:01\r\u001b[K     |███████████                     | 542 kB 6.8 MB/s eta 0:00:01\r\u001b[K     |███████████▎                    | 552 kB 6.8 MB/s eta 0:00:01\r\u001b[K     |███████████▌                    | 563 kB 6.8 MB/s eta 0:00:01\r\u001b[K     |███████████▋                    | 573 kB 6.8 MB/s eta 0:00:01\r\u001b[K     |███████████▉                    | 583 kB 6.8 MB/s eta 0:00:01\r\u001b[K     |████████████                    | 593 kB 6.8 MB/s eta 0:00:01\r\u001b[K     |████████████▎                   | 604 kB 6.8 MB/s eta 0:00:01\r\u001b[K     |████████████▌                   | 614 kB 6.8 MB/s eta 0:00:01\r\u001b[K     |████████████▊                   | 624 kB 6.8 MB/s eta 0:00:01\r\u001b[K     |█████████████                   | 634 kB 6.8 MB/s eta 0:00:01\r\u001b[K     |█████████████                   | 645 kB 6.8 MB/s eta 0:00:01\r\u001b[K     |█████████████▎                  | 655 kB 6.8 MB/s eta 0:00:01\r\u001b[K     |█████████████▌                  | 665 kB 6.8 MB/s eta 0:00:01\r\u001b[K     |█████████████▊                  | 675 kB 6.8 MB/s eta 0:00:01\r\u001b[K     |██████████████                  | 686 kB 6.8 MB/s eta 0:00:01\r\u001b[K     |██████████████▏                 | 696 kB 6.8 MB/s eta 0:00:01\r\u001b[K     |██████████████▍                 | 706 kB 6.8 MB/s eta 0:00:01\r\u001b[K     |██████████████▋                 | 716 kB 6.8 MB/s eta 0:00:01\r\u001b[K     |██████████████▊                 | 727 kB 6.8 MB/s eta 0:00:01\r\u001b[K     |███████████████                 | 737 kB 6.8 MB/s eta 0:00:01\r\u001b[K     |███████████████▏                | 747 kB 6.8 MB/s eta 0:00:01\r\u001b[K     |███████████████▍                | 757 kB 6.8 MB/s eta 0:00:01\r\u001b[K     |███████████████▋                | 768 kB 6.8 MB/s eta 0:00:01\r\u001b[K     |███████████████▉                | 778 kB 6.8 MB/s eta 0:00:01\r\u001b[K     |████████████████                | 788 kB 6.8 MB/s eta 0:00:01\r\u001b[K     |████████████████▎               | 798 kB 6.8 MB/s eta 0:00:01\r\u001b[K     |████████████████▍               | 808 kB 6.8 MB/s eta 0:00:01\r\u001b[K     |████████████████▋               | 819 kB 6.8 MB/s eta 0:00:01\r\u001b[K     |████████████████▉               | 829 kB 6.8 MB/s eta 0:00:01\r\u001b[K     |█████████████████               | 839 kB 6.8 MB/s eta 0:00:01\r\u001b[K     |█████████████████▎              | 849 kB 6.8 MB/s eta 0:00:01\r\u001b[K     |█████████████████▌              | 860 kB 6.8 MB/s eta 0:00:01\r\u001b[K     |█████████████████▊              | 870 kB 6.8 MB/s eta 0:00:01\r\u001b[K     |██████████████████              | 880 kB 6.8 MB/s eta 0:00:01\r\u001b[K     |██████████████████              | 890 kB 6.8 MB/s eta 0:00:01\r\u001b[K     |██████████████████▎             | 901 kB 6.8 MB/s eta 0:00:01\r\u001b[K     |██████████████████▌             | 911 kB 6.8 MB/s eta 0:00:01\r\u001b[K     |██████████████████▊             | 921 kB 6.8 MB/s eta 0:00:01\r\u001b[K     |███████████████████             | 931 kB 6.8 MB/s eta 0:00:01\r\u001b[K     |███████████████████▏            | 942 kB 6.8 MB/s eta 0:00:01\r\u001b[K     |███████████████████▍            | 952 kB 6.8 MB/s eta 0:00:01\r\u001b[K     |███████████████████▋            | 962 kB 6.8 MB/s eta 0:00:01\r\u001b[K     |███████████████████▊            | 972 kB 6.8 MB/s eta 0:00:01\r\u001b[K     |████████████████████            | 983 kB 6.8 MB/s eta 0:00:01\r\u001b[K     |████████████████████▏           | 993 kB 6.8 MB/s eta 0:00:01\r\u001b[K     |████████████████████▍           | 1.0 MB 6.8 MB/s eta 0:00:01\r\u001b[K     |████████████████████▋           | 1.0 MB 6.8 MB/s eta 0:00:01\r\u001b[K     |████████████████████▉           | 1.0 MB 6.8 MB/s eta 0:00:01\r\u001b[K     |█████████████████████           | 1.0 MB 6.8 MB/s eta 0:00:01\r\u001b[K     |█████████████████████▎          | 1.0 MB 6.8 MB/s eta 0:00:01\r\u001b[K     |█████████████████████▍          | 1.1 MB 6.8 MB/s eta 0:00:01\r\u001b[K     |█████████████████████▋          | 1.1 MB 6.8 MB/s eta 0:00:01\r\u001b[K     |█████████████████████▉          | 1.1 MB 6.8 MB/s eta 0:00:01\r\u001b[K     |██████████████████████          | 1.1 MB 6.8 MB/s eta 0:00:01\r\u001b[K     |██████████████████████▎         | 1.1 MB 6.8 MB/s eta 0:00:01\r\u001b[K     |██████████████████████▌         | 1.1 MB 6.8 MB/s eta 0:00:01\r\u001b[K     |██████████████████████▊         | 1.1 MB 6.8 MB/s eta 0:00:01\r\u001b[K     |███████████████████████         | 1.1 MB 6.8 MB/s eta 0:00:01\r\u001b[K     |███████████████████████         | 1.1 MB 6.8 MB/s eta 0:00:01\r\u001b[K     |███████████████████████▎        | 1.1 MB 6.8 MB/s eta 0:00:01\r\u001b[K     |███████████████████████▌        | 1.2 MB 6.8 MB/s eta 0:00:01\r\u001b[K     |███████████████████████▊        | 1.2 MB 6.8 MB/s eta 0:00:01\r\u001b[K     |████████████████████████        | 1.2 MB 6.8 MB/s eta 0:00:01\r\u001b[K     |████████████████████████▏       | 1.2 MB 6.8 MB/s eta 0:00:01\r\u001b[K     |████████████████████████▍       | 1.2 MB 6.8 MB/s eta 0:00:01\r\u001b[K     |████████████████████████▋       | 1.2 MB 6.8 MB/s eta 0:00:01\r\u001b[K     |████████████████████████▊       | 1.2 MB 6.8 MB/s eta 0:00:01\r\u001b[K     |█████████████████████████       | 1.2 MB 6.8 MB/s eta 0:00:01\r\u001b[K     |█████████████████████████▏      | 1.2 MB 6.8 MB/s eta 0:00:01\r\u001b[K     |█████████████████████████▍      | 1.2 MB 6.8 MB/s eta 0:00:01\r\u001b[K     |█████████████████████████▋      | 1.3 MB 6.8 MB/s eta 0:00:01\r\u001b[K     |█████████████████████████▉      | 1.3 MB 6.8 MB/s eta 0:00:01\r\u001b[K     |██████████████████████████      | 1.3 MB 6.8 MB/s eta 0:00:01\r\u001b[K     |██████████████████████████▏     | 1.3 MB 6.8 MB/s eta 0:00:01\r\u001b[K     |██████████████████████████▍     | 1.3 MB 6.8 MB/s eta 0:00:01\r\u001b[K     |██████████████████████████▋     | 1.3 MB 6.8 MB/s eta 0:00:01\r\u001b[K     |██████████████████████████▉     | 1.3 MB 6.8 MB/s eta 0:00:01\r\u001b[K     |███████████████████████████     | 1.3 MB 6.8 MB/s eta 0:00:01\r\u001b[K     |███████████████████████████▎    | 1.3 MB 6.8 MB/s eta 0:00:01\r\u001b[K     |███████████████████████████▌    | 1.4 MB 6.8 MB/s eta 0:00:01\r\u001b[K     |███████████████████████████▊    | 1.4 MB 6.8 MB/s eta 0:00:01\r\u001b[K     |███████████████████████████▉    | 1.4 MB 6.8 MB/s eta 0:00:01\r\u001b[K     |████████████████████████████    | 1.4 MB 6.8 MB/s eta 0:00:01\r\u001b[K     |████████████████████████████▎   | 1.4 MB 6.8 MB/s eta 0:00:01\r\u001b[K     |████████████████████████████▌   | 1.4 MB 6.8 MB/s eta 0:00:01\r\u001b[K     |████████████████████████████▊   | 1.4 MB 6.8 MB/s eta 0:00:01\r\u001b[K     |█████████████████████████████   | 1.4 MB 6.8 MB/s eta 0:00:01\r\u001b[K     |█████████████████████████████▏  | 1.4 MB 6.8 MB/s eta 0:00:01\r\u001b[K     |█████████████████████████████▍  | 1.4 MB 6.8 MB/s eta 0:00:01\r\u001b[K     |█████████████████████████████▌  | 1.5 MB 6.8 MB/s eta 0:00:01\r\u001b[K     |█████████████████████████████▊  | 1.5 MB 6.8 MB/s eta 0:00:01\r\u001b[K     |██████████████████████████████  | 1.5 MB 6.8 MB/s eta 0:00:01\r\u001b[K     |██████████████████████████████▏ | 1.5 MB 6.8 MB/s eta 0:00:01\r\u001b[K     |██████████████████████████████▍ | 1.5 MB 6.8 MB/s eta 0:00:01\r\u001b[K     |██████████████████████████████▋ | 1.5 MB 6.8 MB/s eta 0:00:01\r\u001b[K     |██████████████████████████████▉ | 1.5 MB 6.8 MB/s eta 0:00:01\r\u001b[K     |███████████████████████████████ | 1.5 MB 6.8 MB/s eta 0:00:01\r\u001b[K     |███████████████████████████████▏| 1.5 MB 6.8 MB/s eta 0:00:01\r\u001b[K     |███████████████████████████████▍| 1.5 MB 6.8 MB/s eta 0:00:01\r\u001b[K     |███████████████████████████████▋| 1.6 MB 6.8 MB/s eta 0:00:01\r\u001b[K     |███████████████████████████████▉| 1.6 MB 6.8 MB/s eta 0:00:01\r\u001b[K     |████████████████████████████████| 1.6 MB 6.8 MB/s \n",
            "\u001b[?25hRequirement already satisfied: scipy in /usr/local/lib/python3.7/dist-packages (from gym==0.18.3) (1.4.1)\n",
            "Requirement already satisfied: numpy>=1.10.4 in /usr/local/lib/python3.7/dist-packages (from gym==0.18.3) (1.19.5)\n",
            "Requirement already satisfied: pyglet<=1.5.15,>=1.4.0 in /usr/local/lib/python3.7/dist-packages (from gym==0.18.3) (1.5.0)\n",
            "Requirement already satisfied: Pillow<=8.2.0 in /usr/local/lib/python3.7/dist-packages (from gym==0.18.3) (7.1.2)\n",
            "Requirement already satisfied: cloudpickle<1.7.0,>=1.2.0 in /usr/local/lib/python3.7/dist-packages (from gym==0.18.3) (1.3.0)\n",
            "Requirement already satisfied: future in /usr/local/lib/python3.7/dist-packages (from pyglet<=1.5.15,>=1.4.0->gym==0.18.3) (0.16.0)\n",
            "Building wheels for collected packages: gym\n",
            "  Building wheel for gym (setup.py) ... \u001b[?25l\u001b[?25hdone\n",
            "  Created wheel for gym: filename=gym-0.18.3-py3-none-any.whl size=1657526 sha256=f81743c73a39014e9bbc4ef2bc1d0021b380f79b14b34cd4b0949ed057330e43\n",
            "  Stored in directory: /root/.cache/pip/wheels/1a/ec/6d/705d53925f481ab70fd48ec7728558745eeae14dfda3b49c99\n",
            "Successfully built gym\n",
            "Installing collected packages: gym\n",
            "  Attempting uninstall: gym\n",
            "    Found existing installation: gym 0.17.3\n",
            "    Uninstalling gym-0.17.3:\n",
            "      Successfully uninstalled gym-0.17.3\n",
            "Successfully installed gym-0.18.3\n",
            "Collecting atari-py==0.2.5\n",
            "  Downloading atari_py-0.2.5-cp37-cp37m-manylinux1_x86_64.whl (2.8 MB)\n",
            "\u001b[K     |████████████████████████████████| 2.8 MB 7.5 MB/s \n",
            "\u001b[?25hRequirement already satisfied: six in /usr/local/lib/python3.7/dist-packages (from atari-py==0.2.5) (1.15.0)\n",
            "Requirement already satisfied: numpy in /usr/local/lib/python3.7/dist-packages (from atari-py==0.2.5) (1.19.5)\n",
            "Installing collected packages: atari-py\n",
            "  Attempting uninstall: atari-py\n",
            "    Found existing installation: atari-py 0.2.9\n",
            "    Uninstalling atari-py-0.2.9:\n",
            "      Successfully uninstalled atari-py-0.2.9\n",
            "Successfully installed atari-py-0.2.5\n"
          ]
        }
      ],
      "source": [
        "# Установка модулей\n",
        "\n",
        "!pip install gym==0.18.3\n",
        "!pip install atari-py==0.2.5"
      ]
    },
    {
      "cell_type": "code",
      "source": [
        "# Загружаем библиотеку\n",
        "\n",
        "from tensorflow.keras.models import Model, load_model\n",
        "from tensorflow.keras.layers import Dense, Flatten, Input, Lambda, Conv2D, Conv1D, MaxPooling2D, Reshape, Multiply\n",
        "from tensorflow.keras.utils import plot_model\n",
        "from tensorflow.keras.optimizers import RMSprop, Adam, SGD\n",
        "import tensorflow.keras as keras \n",
        "import numpy as np\n",
        "import matplotlib.pyplot as plt\n",
        "import tensorflow as tf\n",
        "import time\n",
        "import gym\n",
        "\n",
        "%matplotlib inline"
      ],
      "metadata": {
        "id": "w5o-LvSvjm_y"
      },
      "execution_count": null,
      "outputs": []
    },
    {
      "cell_type": "code",
      "source": [
        "# Подключаем диск\n",
        "\n",
        "from google.colab import drive\n",
        "drive.mount('/content/drive')"
      ],
      "metadata": {
        "colab": {
          "base_uri": "https://localhost:8080/"
        },
        "id": "BLOGvnbWjsBB",
        "outputId": "80392f4c-9871-48f7-a73e-2d2e7a2083df"
      },
      "execution_count": null,
      "outputs": [
        {
          "output_type": "stream",
          "name": "stdout",
          "text": [
            "Mounted at /content/drive\n"
          ]
        }
      ]
    },
    {
      "cell_type": "code",
      "source": [
        "# Отключаем функционал из tf2.0\n",
        "\n",
        "tf.compat.v1.disable_eager_execution()"
      ],
      "metadata": {
        "id": "MVrbyausjx4w"
      },
      "execution_count": null,
      "outputs": []
    },
    {
      "cell_type": "code",
      "source": [
        "# Создаем среду игры\n",
        "\n",
        "env = gym.make('Pong-v0')\n",
        "observation = env.reset()\n",
        "observation.shape"
      ],
      "metadata": {
        "colab": {
          "base_uri": "https://localhost:8080/"
        },
        "id": "6cRTEg6Ln0Kr",
        "outputId": "0917a492-bc60-4e46-ea10-0fd4041b6eca"
      },
      "execution_count": null,
      "outputs": [
        {
          "output_type": "execute_result",
          "data": {
            "text/plain": [
              "(210, 160, 3)"
            ]
          },
          "metadata": {},
          "execution_count": 6
        }
      ]
    },
    {
      "cell_type": "code",
      "source": [
        "# Вызовем визуализацию состояния среды\n",
        "\n",
        "plt.imshow(observation)\n",
        "plt.show() "
      ],
      "metadata": {
        "colab": {
          "base_uri": "https://localhost:8080/",
          "height": 269
        },
        "id": "qZCyiPL0n3I6",
        "outputId": "0b9fd0c8-abda-4697-c00f-5c134e8e766a"
      },
      "execution_count": null,
      "outputs": [
        {
          "output_type": "display_data",
          "data": {
            "image/png": "[encoded data removed]",
            "text/plain": [
              "<Figure size 432x288 with 1 Axes>"
            ]
          },
          "metadata": {
            "needs_background": "light"
          }
        }
      ]
    },
    {
      "cell_type": "code",
      "source": [
        "# Проиграем вперёд игру на 30 кадров чтобы увидеть полную сцену игры\n",
        "\n",
        "for i in range(60):\n",
        "    observation, reward, done, info = env.step(0)\n",
        "    plt.imshow(observation)\n",
        "    plt.show()"
      ],
      "metadata": {
        "colab": {
          "base_uri": "https://localhost:8080/",
          "height": 1000
        },
        "id": "bolvn0tepXyo",
        "outputId": "f131e92b-3e6e-46a8-f06f-38b86d86f302"
      },
      "execution_count": null,
      "outputs": [
        {
          "output_type": "display_data",
          "data": {
            "image/png": "[encoded data removed]",
            "text/plain": [
              "<Figure size 432x288 with 1 Axes>"
            ]
          },
          "metadata": {
            "needs_background": "light"
          }
        },
        {
          "output_type": "display_data",
          "data": {
            "image/png": "[encoded data removed]",
            "text/plain": [
              "<Figure size 432x288 with 1 Axes>"
            ]
          },
          "metadata": {
            "needs_background": "light"
          }
        },
        {
          "output_type": "display_data",
          "data": {
            "image/png": "[encoded data removed]",
            "text/plain": [
              "<Figure size 432x288 with 1 Axes>"
            ]
          },
          "metadata": {
            "needs_background": "light"
          }
        },
        {
          "output_type": "display_data",
          "data": {
            "image/png": "[encoded data removed]",
            "text/plain": [
              "<Figure size 432x288 with 1 Axes>"
            ]
          },
          "metadata": {
            "needs_background": "light"
          }
        },
        {
          "output_type": "display_data",
          "data": {
            "image/png": "[encoded data removed]",
            "text/plain": [
              "<Figure size 432x288 with 1 Axes>"
            ]
          },
          "metadata": {
            "needs_background": "light"
          }
        },
        {
          "output_type": "display_data",
          "data": {
            "image/png": "[encoded data removed]",
            "text/plain": [
              "<Figure size 432x288 with 1 Axes>"
            ]
          },
          "metadata": {
            "needs_background": "light"
          }
        },
        {
          "output_type": "display_data",
          "data": {
            "image/png": "[encoded data removed]",
            "text/plain": [
              "<Figure size 432x288 with 1 Axes>"
            ]
          },
          "metadata": {
            "needs_background": "light"
          }
        },
        {
          "output_type": "display_data",
          "data": {
            "image/png": "[encoded data removed]",
            "text/plain": [
              "<Figure size 432x288 with 1 Axes>"
            ]
          },
          "metadata": {
            "needs_background": "light"
          }
        },
        {
          "output_type": "display_data",
          "data": {
            "image/png": "[encoded data removed]",
            "text/plain": [
              "<Figure size 432x288 with 1 Axes>"
            ]
          },
          "metadata": {
            "needs_background": "light"
          }
        },
        {
          "output_type": "display_data",
          "data": {
            "image/png": "[encoded data removed]",
            "text/plain": [
              "<Figure size 432x288 with 1 Axes>"
            ]
          },
          "metadata": {
            "needs_background": "light"
          }
        },
        {
          "output_type": "display_data",
          "data": {
            "image/png": "[encoded data removed]",
            "text/plain": [
              "<Figure size 432x288 with 1 Axes>"
            ]
          },
          "metadata": {
            "needs_background": "light"
          }
        },
        {
          "output_type": "display_data",
          "data": {
            "image/png": "[encoded data removed]",
            "text/plain": [
              "<Figure size 432x288 with 1 Axes>"
            ]
          },
          "metadata": {
            "needs_background": "light"
          }
        },
        {
          "output_type": "display_data",
          "data": {
            "image/png": "[encoded data removed]",
            "text/plain": [
              "<Figure size 432x288 with 1 Axes>"
            ]
          },
          "metadata": {
            "needs_background": "light"
          }
        },
        {
          "output_type": "display_data",
          "data": {
            "image/png": "[encoded data removed]",
            "text/plain": [
              "<Figure size 432x288 with 1 Axes>"
            ]
          },
          "metadata": {
            "needs_background": "light"
          }
        },
        {
          "output_type": "display_data",
          "data": {
            "image/png": "[encoded data removed]",
            "text/plain": [
              "<Figure size 432x288 with 1 Axes>"
            ]
          },
          "metadata": {
            "needs_background": "light"
          }
        },
        {
          "output_type": "display_data",
          "data": {
            "image/png": "[encoded data removed]",
            "text/plain": [
              "<Figure size 432x288 with 1 Axes>"
            ]
          },
          "metadata": {
            "needs_background": "light"
          }
        },
        {
          "output_type": "display_data",
          "data": {
            "image/png": "[encoded data removed]",
            "text/plain": [
              "<Figure size 432x288 with 1 Axes>"
            ]
          },
          "metadata": {
            "needs_background": "light"
          }
        },
        {
          "output_type": "display_data",
          "data": {
            "image/png": "[encoded data removed]",
            "text/plain": [
              "<Figure size 432x288 with 1 Axes>"
            ]
          },
          "metadata": {
            "needs_background": "light"
          }
        },
        {
          "output_type": "display_data",
          "data": {
            "image/png": "[encoded data removed]",
            "text/plain": [
              "<Figure size 432x288 with 1 Axes>"
            ]
          },
          "metadata": {
            "needs_background": "light"
          }
        },
        {
          "output_type": "display_data",
          "data": {
            "image/png": "[encoded data removed]",
            "text/plain": [
              "<Figure size 432x288 with 1 Axes>"
            ]
          },
          "metadata": {
            "needs_background": "light"
          }
        },
        {
          "output_type": "display_data",
          "data": {
            "image/png": "[encoded data removed]",
            "text/plain": [
              "<Figure size 432x288 with 1 Axes>"
            ]
          },
          "metadata": {
            "needs_background": "light"
          }
        },
        {
          "output_type": "display_data",
          "data": {
            "image/png": "[encoded data removed]",
            "text/plain": [
              "<Figure size 432x288 with 1 Axes>"
            ]
          },
          "metadata": {
            "needs_background": "light"
          }
        },
        {
          "output_type": "display_data",
          "data": {
            "image/png": "[encoded data removed]",
            "text/plain": [
              "<Figure size 432x288 with 1 Axes>"
            ]
          },
          "metadata": {
            "needs_background": "light"
          }
        },
        {
          "output_type": "display_data",
          "data": {
            "image/png": "[encoded data removed]",
            "text/plain": [
              "<Figure size 432x288 with 1 Axes>"
            ]
          },
          "metadata": {
            "needs_background": "light"
          }
        },
        {
          "output_type": "display_data",
          "data": {
            "image/png": "[encoded data removed]",
            "text/plain": [
              "<Figure size 432x288 with 1 Axes>"
            ]
          },
          "metadata": {
            "needs_background": "light"
          }
        },
        {
          "output_type": "display_data",
          "data": {
            "image/png": "[encoded data removed]",
            "text/plain": [
              "<Figure size 432x288 with 1 Axes>"
            ]
          },
          "metadata": {
            "needs_background": "light"
          }
        },
        {
          "output_type": "display_data",
          "data": {
            "image/png": "[encoded data removed]",
            "text/plain": [
              "<Figure size 432x288 with 1 Axes>"
            ]
          },
          "metadata": {
            "needs_background": "light"
          }
        },
        {
          "output_type": "display_data",
          "data": {
            "image/png": "[encoded data removed]",
            "text/plain": [
              "<Figure size 432x288 with 1 Axes>"
            ]
          },
          "metadata": {
            "needs_background": "light"
          }
        },
        {
          "output_type": "display_data",
          "data": {
            "image/png": "[encoded data removed]",
            "text/plain": [
              "<Figure size 432x288 with 1 Axes>"
            ]
          },
          "metadata": {
            "needs_background": "light"
          }
        },
        {
          "output_type": "display_data",
          "data": {
            "image/png": "[encoded data removed]",
            "text/plain": [
              "<Figure size 432x288 with 1 Axes>"
            ]
          },
          "metadata": {
            "needs_background": "light"
          }
        },
        {
          "output_type": "display_data",
          "data": {
            "image/png": "[encoded data removed]",
            "text/plain": [
              "<Figure size 432x288 with 1 Axes>"
            ]
          },
          "metadata": {
            "needs_background": "light"
          }
        },
        {
          "output_type": "display_data",
          "data": {
            "image/png": "[encoded data removed]",
            "text/plain": [
              "<Figure size 432x288 with 1 Axes>"
            ]
          },
          "metadata": {
            "needs_background": "light"
          }
        },
        {
          "output_type": "display_data",
          "data": {
            "image/png": "[encoded data removed]",
            "text/plain": [
              "<Figure size 432x288 with 1 Axes>"
            ]
          },
          "metadata": {
            "needs_background": "light"
          }
        },
        {
          "output_type": "display_data",
          "data": {
            "image/png": "[encoded data removed]",
            "text/plain": [
              "<Figure size 432x288 with 1 Axes>"
            ]
          },
          "metadata": {
            "needs_background": "light"
          }
        },
        {
          "output_type": "display_data",
          "data": {
            "image/png": "[encoded data removed]",
            "text/plain": [
              "<Figure size 432x288 with 1 Axes>"
            ]
          },
          "metadata": {
            "needs_background": "light"
          }
        },
        {
          "output_type": "display_data",
          "data": {
            "image/png": "[encoded data removed]",
            "text/plain": [
              "<Figure size 432x288 with 1 Axes>"
            ]
          },
          "metadata": {
            "needs_background": "light"
          }
        },
        {
          "output_type": "display_data",
          "data": {
            "image/png": "[encoded data removed]",
            "text/plain": [
              "<Figure size 432x288 with 1 Axes>"
            ]
          },
          "metadata": {
            "needs_background": "light"
          }
        },
        {
          "output_type": "display_data",
          "data": {
            "image/png": "[encoded data removed]",
            "text/plain": [
              "<Figure size 432x288 with 1 Axes>"
            ]
          },
          "metadata": {
            "needs_background": "light"
          }
        },
        {
          "output_type": "display_data",
          "data": {
            "image/png": "[encoded data removed]",
            "text/plain": [
              "<Figure size 432x288 with 1 Axes>"
            ]
          },
          "metadata": {
            "needs_background": "light"
          }
        },
        {
          "output_type": "display_data",
          "data": {
            "image/png": "[encoded data removed]",
            "text/plain": [
              "<Figure size 432x288 with 1 Axes>"
            ]
          },
          "metadata": {
            "needs_background": "light"
          }
        },
        {
          "output_type": "display_data",
          "data": {
            "image/png": "[encoded data removed]",
            "text/plain": [
              "<Figure size 432x288 with 1 Axes>"
            ]
          },
          "metadata": {
            "needs_background": "light"
          }
        },
        {
          "output_type": "display_data",
          "data": {
            "image/png": "[encoded data removed]",
            "text/plain": [
              "<Figure size 432x288 with 1 Axes>"
            ]
          },
          "metadata": {
            "needs_background": "light"
          }
        },
        {
          "output_type": "display_data",
          "data": {
            "image/png": "[encoded data removed]",
            "text/plain": [
              "<Figure size 432x288 with 1 Axes>"
            ]
          },
          "metadata": {
            "needs_background": "light"
          }
        },
        {
          "output_type": "display_data",
          "data": {
            "image/png": "[encoded data removed]",
            "text/plain": [
              "<Figure size 432x288 with 1 Axes>"
            ]
          },
          "metadata": {
            "needs_background": "light"
          }
        },
        {
          "output_type": "display_data",
          "data": {
            "image/png": "[encoded data removed]",
            "text/plain": [
              "<Figure size 432x288 with 1 Axes>"
            ]
          },
          "metadata": {
            "needs_background": "light"
          }
        },
        {
          "output_type": "display_data",
          "data": {
            "image/png": "[encoded data removed]",
            "text/plain": [
              "<Figure size 432x288 with 1 Axes>"
            ]
          },
          "metadata": {
            "needs_background": "light"
          }
        },
        {
          "output_type": "display_data",
          "data": {
            "image/png": "[encoded data removed]",
            "text/plain": [
              "<Figure size 432x288 with 1 Axes>"
            ]
          },
          "metadata": {
            "needs_background": "light"
          }
        },
        {
          "output_type": "display_data",
          "data": {
            "image/png": "[encoded data removed]",
            "text/plain": [
              "<Figure size 432x288 with 1 Axes>"
            ]
          },
          "metadata": {
            "needs_background": "light"
          }
        },
        {
          "output_type": "display_data",
          "data": {
            "image/png": "[encoded data removed]",
            "text/plain": [
              "<Figure size 432x288 with 1 Axes>"
            ]
          },
          "metadata": {
            "needs_background": "light"
          }
        },
        {
          "output_type": "display_data",
          "data": {
            "image/png": "[encoded data removed]",
            "text/plain": [
              "<Figure size 432x288 with 1 Axes>"
            ]
          },
          "metadata": {
            "needs_background": "light"
          }
        },
        {
          "output_type": "display_data",
          "data": {
            "image/png": "[encoded data removed]",
            "text/plain": [
              "<Figure size 432x288 with 1 Axes>"
            ]
          },
          "metadata": {
            "needs_background": "light"
          }
        },
        {
          "output_type": "display_data",
          "data": {
            "image/png": "[encoded data removed]",
            "text/plain": [
              "<Figure size 432x288 with 1 Axes>"
            ]
          },
          "metadata": {
            "needs_background": "light"
          }
        },
        {
          "output_type": "display_data",
          "data": {
            "image/png": "[encoded data removed]",
            "text/plain": [
              "<Figure size 432x288 with 1 Axes>"
            ]
          },
          "metadata": {
            "needs_background": "light"
          }
        },
        {
          "output_type": "display_data",
          "data": {
            "image/png": "[encoded data removed]",
            "text/plain": [
              "<Figure size 432x288 with 1 Axes>"
            ]
          },
          "metadata": {
            "needs_background": "light"
          }
        },
        {
          "output_type": "display_data",
          "data": {
            "image/png": "[encoded data removed]",
            "text/plain": [
              "<Figure size 432x288 with 1 Axes>"
            ]
          },
          "metadata": {
            "needs_background": "light"
          }
        },
        {
          "output_type": "display_data",
          "data": {
            "image/png": "[encoded data removed]",
            "text/plain": [
              "<Figure size 432x288 with 1 Axes>"
            ]
          },
          "metadata": {
            "needs_background": "light"
          }
        },
        {
          "output_type": "display_data",
          "data": {
            "image/png": "[encoded data removed]",
            "text/plain": [
              "<Figure size 432x288 with 1 Axes>"
            ]
          },
          "metadata": {
            "needs_background": "light"
          }
        },
        {
          "output_type": "display_data",
          "data": {
            "image/png": "[encoded data removed]",
            "text/plain": [
              "<Figure size 432x288 with 1 Axes>"
            ]
          },
          "metadata": {
            "needs_background": "light"
          }
        },
        {
          "output_type": "display_data",
          "data": {
            "image/png": "[encoded data removed]",
            "text/plain": [
              "<Figure size 432x288 with 1 Axes>"
            ]
          },
          "metadata": {
            "needs_background": "light"
          }
        },
        {
          "output_type": "display_data",
          "data": {
            "image/png": "[encoded data removed]",
            "text/plain": [
              "<Figure size 432x288 with 1 Axes>"
            ]
          },
          "metadata": {
            "needs_background": "light"
          }
        }
      ]
    },
    {
      "cell_type": "code",
      "source": [
        "newObservation, reward, done, info = env.step(2)\n",
        "plt.imshow(newObservation)"
      ],
      "metadata": {
        "colab": {
          "base_uri": "https://localhost:8080/",
          "height": 287
        },
        "id": "2XMpDzLDpYds",
        "outputId": "6831212f-3eb3-40ca-98ea-31945ff34c71"
      },
      "execution_count": null,
      "outputs": [
        {
          "output_type": "execute_result",
          "data": {
            "text/plain": [
              "<matplotlib.image.AxesImage at 0x7ff9b1d840d0>"
            ]
          },
          "metadata": {},
          "execution_count": 9
        },
        {
          "output_type": "display_data",
          "data": {
            "image/png": "[encoded data removed]",
            "text/plain": [
              "<Figure size 432x288 with 1 Axes>"
            ]
          },
          "metadata": {
            "needs_background": "light"
          }
        }
      ]
    },
    {
      "cell_type": "code",
      "source": [
        "# Функцию предобработки данных для подачи в нейросеть\n",
        "\n",
        "def preprocessFrames(newFrame, lastFrame):\n",
        "  nFrame = newFrame.astype(np.int32)\n",
        "  nFrame[nFrame==144] = 0\n",
        "  nFrame[nFrame==72] = 0\n",
        "  lFrame = lastFrame.astype(np.int32)\n",
        "  lFrame[lFrame==144] = 0\n",
        "  lFrame[lFrame==72] = 0\n",
        "  deltaFrame = nFrame - lFrame\n",
        "  deltaFrame = deltaFrame[35:195]\n",
        "  deltaFrame=deltaFrame[::2,::2, 0]\n",
        "  maxValue = deltaFrame.max() if deltaFrame.max()> abs(deltaFrame.min()) else abs(deltaFrame.min())\n",
        "  if maxValue != 0:\n",
        "      deltaFrame=deltaFrame/maxValue\n",
        "  return deltaFrame\n",
        "\n",
        "plt.imshow(preprocessFrames(newObservation, observation), plt.cm.gray)"
      ],
      "metadata": {
        "id": "z8Q_mkgKpf9N",
        "colab": {
          "base_uri": "https://localhost:8080/",
          "height": 286
        },
        "outputId": "0deb08ab-94ae-49b4-da01-9324f9eb673b"
      },
      "execution_count": null,
      "outputs": [
        {
          "output_type": "execute_result",
          "data": {
            "text/plain": [
              "<matplotlib.image.AxesImage at 0x7ff9b1e6a950>"
            ]
          },
          "metadata": {},
          "execution_count": 10
        },
        {
          "output_type": "display_data",
          "data": {
            "image/png": "[encoded data removed]",
            "text/plain": [
              "<Figure size 432x288 with 1 Axes>"
            ]
          },
          "metadata": {
            "needs_background": "light"
          }
        }
      ]
    },
    {
      "cell_type": "code",
      "source": [
        "# Массив состояния среды\n",
        "\n",
        "preprocessFrames(newObservation, observation)"
      ],
      "metadata": {
        "colab": {
          "base_uri": "https://localhost:8080/"
        },
        "id": "LZzpaH_QzQjx",
        "outputId": "e1cc040e-beca-43d7-ae96-9f639760d4b2"
      },
      "execution_count": null,
      "outputs": [
        {
          "output_type": "execute_result",
          "data": {
            "text/plain": [
              "array([[0., 0., 0., ..., 0., 0., 0.],\n",
              "       [0., 0., 0., ..., 0., 0., 0.],\n",
              "       [0., 0., 0., ..., 0., 0., 0.],\n",
              "       ...,\n",
              "       [0., 0., 0., ..., 0., 0., 0.],\n",
              "       [0., 0., 0., ..., 0., 0., 0.],\n",
              "       [0., 0., 0., ..., 0., 0., 0.]])"
            ]
          },
          "metadata": {},
          "execution_count": 11
        }
      ]
    },
    {
      "cell_type": "code",
      "source": [
        "# Форма массива\n",
        "\n",
        "preprocessFrames(newObservation, observation).shape"
      ],
      "metadata": {
        "colab": {
          "base_uri": "https://localhost:8080/"
        },
        "id": "tCCXdpsMzRib",
        "outputId": "dc02fe6b-5f42-45d4-ba58-28cafe6121b1"
      },
      "execution_count": null,
      "outputs": [
        {
          "output_type": "execute_result",
          "data": {
            "text/plain": [
              "(80, 80)"
            ]
          },
          "metadata": {},
          "execution_count": 12
        }
      ]
    },
    {
      "cell_type": "code",
      "source": [
        "# Простая нейронка\n",
        "\n",
        "inputs = Input(shape=(80,80))\n",
        "flattenedLayer = Flatten()(inputs)\n",
        "fullConnected = Dense(200, activation='relu', use_bias=False)(flattenedLayer)\n",
        "sigmoidOutput = Dense(1, activation='sigmoid', use_bias=False)(fullConnected)\n",
        "policyNetworkModel = Model(inputs=inputs, outputs=sigmoidOutput)\n",
        "policyNetworkModel.summary()"
      ],
      "metadata": {
        "colab": {
          "base_uri": "https://localhost:8080/"
        },
        "id": "U_iL6j5IzZpZ",
        "outputId": "a54ac2f3-98e0-4e32-8912-b64fd02d6af8"
      },
      "execution_count": null,
      "outputs": [
        {
          "output_type": "stream",
          "name": "stdout",
          "text": [
            "Model: \"model\"\n",
            "_________________________________________________________________\n",
            " Layer (type)                Output Shape              Param #   \n",
            "=================================================================\n",
            " input_1 (InputLayer)        [(None, 80, 80)]          0         \n",
            "                                                                 \n",
            " flatten (Flatten)           (None, 6400)              0         \n",
            "                                                                 \n",
            " dense (Dense)               (None, 200)               1280000   \n",
            "                                                                 \n",
            " dense_1 (Dense)             (None, 1)                 200       \n",
            "                                                                 \n",
            "=================================================================\n",
            "Total params: 1,280,200\n",
            "Trainable params: 1,280,200\n",
            "Non-trainable params: 0\n",
            "_________________________________________________________________\n"
          ]
        }
      ]
    },
    {
      "cell_type": "code",
      "source": [
        "# Задаем награду за эпизод\n",
        "\n",
        "episodeReward = Input(shape=(1,), name='episodeReward')"
      ],
      "metadata": {
        "id": "7auJ5_nGzcZ8"
      },
      "execution_count": null,
      "outputs": []
    },
    {
      "cell_type": "code",
      "source": [
        "# Функция потерь\n",
        "\n",
        "def rewardedLoss(episodeReward):\n",
        "  def loss(yTrue,yPred):\n",
        "    tmpPred = Lambda(lambda x: keras.backend.clip(x,0.05,0.95))(yPred)\n",
        "    tmpLoss = Lambda(lambda x:-yTrue*keras.backend.log(x)-(1-yTrue)*(keras.backend.log(1-x)))(tmpPred)\n",
        "    policyLoss = Multiply()([tmpLoss, episodeReward])\n",
        "    return policyLoss\n",
        "  return loss"
      ],
      "metadata": {
        "id": "XjY0zmNszfMs"
      },
      "execution_count": null,
      "outputs": []
    },
    {
      "cell_type": "code",
      "source": [
        "# Создаем керас-оптимизатор и нейронку для обучения\n",
        "\n",
        "episodeReward = Input(shape=(1,), name='episodeReward')\n",
        "policyNetworkTrain = Model(inputs=[inputs, episodeReward],outputs=sigmoidOutput)\n",
        " \n",
        "myOptimizer = RMSprop(lr=0.0001)\n",
        "policyNetworkTrain.compile(optimizer=myOptimizer, loss=rewardedLoss(episodeReward))"
      ],
      "metadata": {
        "colab": {
          "base_uri": "https://localhost:8080/"
        },
        "id": "z0yk61Rezhvv",
        "outputId": "0a0d36f8-2591-47a2-c164-cb2d0fbdc33e"
      },
      "execution_count": null,
      "outputs": [
        {
          "output_type": "stream",
          "name": "stderr",
          "text": [
            "/usr/local/lib/python3.7/dist-packages/keras/optimizer_v2/rmsprop.py:130: UserWarning: The `lr` argument is deprecated, use `learning_rate` instead.\n",
            "  super(RMSprop, self).__init__(name, **kwargs)\n"
          ]
        }
      ]
    },
    {
      "cell_type": "code",
      "source": [
        "# Функция для генерации игрового эпизода с участием нейросети\n",
        "\n",
        "def generateEpisode(policyNetwork):\n",
        "  statesList = []\n",
        "  upDownActionList=[]\n",
        "  rewardsList=[]\n",
        "  networkOutputList=[]\n",
        "  env=gym.make(\"Pong-v0\")\n",
        "  observation = env.reset()\n",
        "  newObservation = observation\n",
        "  done = False\n",
        " \n",
        "  while done == False:\n",
        "    processedNetworkInput = preprocessFrames(newFrame=newObservation, lastFrame=observation)\n",
        "    statesList.append(processedNetworkInput)\n",
        "    reshapedInput = np.expand_dims(processedNetworkInput, axis=0)\n",
        " \n",
        "    upProbability = policyNetwork.predict(reshapedInput, batch_size=1)[0][0]\n",
        "    \n",
        "    networkOutputList.append(upProbability)\n",
        "    actualAction = np.random.choice(a=[2,3], size=1, p=[upProbability, 1-upProbability])\n",
        " \n",
        "    if actualAction == 2:\n",
        "      upDownActionList.append(1.0)\n",
        "    else:\n",
        "      upDownActionList.append(0.0)\n",
        " \n",
        "    observation = newObservation\n",
        "    newObservation, reward, done, info = env.step(actualAction)\n",
        "    rewardsList.append(reward)\n",
        " \n",
        "    if done:\n",
        "      break\n",
        " \n",
        "  env.close()\n",
        "  return statesList, upDownActionList, rewardsList, networkOutputList"
      ],
      "metadata": {
        "id": "lIb1v80kzku2"
      },
      "execution_count": null,
      "outputs": []
    },
    {
      "cell_type": "code",
      "source": [
        "# Генерируем эпизод игры с необученной сетью\n",
        "\n",
        "statesList, upDownActionList, rewardsList, networkOutputList = generateEpisode(policyNetworkModel)\n",
        "print(\"----------------------\")\n",
        "print(\"Количество состояний в эпизоде = \"+str(len(statesList)))\n",
        "print(\"Форма состояния \"+str(statesList[0].shape))\n",
        "print(\"Количество наград за эпизод = \"+str(len(rewardsList)))"
      ],
      "metadata": {
        "colab": {
          "base_uri": "https://localhost:8080/"
        },
        "id": "cUH8TJKVzpEt",
        "outputId": "e90e8bf7-052e-4429-cf93-b6d271dfd04b"
      },
      "execution_count": null,
      "outputs": [
        {
          "output_type": "stream",
          "name": "stderr",
          "text": [
            "/usr/local/lib/python3.7/dist-packages/keras/engine/training_v1.py:2079: UserWarning: `Model.state_updates` will be removed in a future version. This property should not be used in TensorFlow 2.0, as `updates` are applied automatically.\n",
            "  updates=self.state_updates,\n"
          ]
        },
        {
          "output_type": "stream",
          "name": "stdout",
          "text": [
            "----------------------\n",
            "Количество состояний в эпизоде = 1935\n",
            "Форма состояния (80, 80)\n",
            "Количество наград за эпизод = 1935\n"
          ]
        }
      ]
    },
    {
      "cell_type": "code",
      "source": [
        "# Сколько мы раз выиграли в течение эпизода\n",
        "\n",
        "print(\"Количество выигранных очков = \"+str(len(list(filter(lambda r: r>0,rewardsList)))))\n",
        "print(\"Количество проигранных очков = \"+str(len(list(filter(lambda r: r<0,rewardsList)))))\n",
        "print(\"Количество нулевых наград = \"+str(len(list(filter(lambda r: r==0,rewardsList)))))"
      ],
      "metadata": {
        "colab": {
          "base_uri": "https://localhost:8080/"
        },
        "id": "XEwvKLV-z151",
        "outputId": "336485eb-f522-495a-9f6c-2afd9b65e6bf"
      },
      "execution_count": null,
      "outputs": [
        {
          "output_type": "stream",
          "name": "stdout",
          "text": [
            "Количество выигранных очков = 2\n",
            "Количество проигранных очков = 21\n",
            "Количество нулевых наград = 1912\n"
          ]
        }
      ]
    },
    {
      "cell_type": "code",
      "source": [
        "# Выведем на графике полученные награды\n",
        "\n",
        "plt.plot(rewardsList, '.')\n",
        "ax=plt.gca()\n",
        "ax.grid(True)"
      ],
      "metadata": {
        "colab": {
          "base_uri": "https://localhost:8080/",
          "height": 265
        },
        "id": "_J72f41tz6H7",
        "outputId": "f6e5265b-82d6-4d2c-d34b-3950259da866"
      },
      "execution_count": null,
      "outputs": [
        {
          "output_type": "display_data",
          "data": {
            "image/png": "[encoded data removed]",
            "text/plain": [
              "<Figure size 432x288 with 1 Axes>"
            ]
          },
          "metadata": {
            "needs_background": "light"
          }
        }
      ]
    },
    {
      "cell_type": "code",
      "source": [
        "# Функция для распределения ненулевой награды\n",
        "\n",
        "def processRewards(rewardList):\n",
        "  rewardDecay = 0.99\n",
        "  tmpReward = 0\n",
        "  rewardDecayed = np.zeros_like(rewardList,dtype=np.float32)\n",
        "  for i in range(len(rewardList)-1, -1, -1):\n",
        "    if rewardList[i] == 0:\n",
        "      tmpReward = tmpReward*rewardDecay\n",
        "      rewardDecayed[i] = tmpReward\n",
        "    else:\n",
        "      tmpReward = rewardList[i]\n",
        "      rewardDecayed[i] = tmpReward\n",
        "\n",
        "  rewardDecayed -= np.mean(rewardDecayed)\n",
        "  rewardDecayed /= np.std(rewardDecayed)\n",
        "  return rewardDecayed"
      ],
      "metadata": {
        "id": "YyN6X1_Zz-lR"
      },
      "execution_count": null,
      "outputs": []
    },
    {
      "cell_type": "code",
      "source": [
        "# Распределение наград по новой функции\n",
        "\n",
        "plt.plot(processRewards(rewardsList),'-')\n",
        "ax = plt.gca()\n",
        "ax.grid(True)"
      ],
      "metadata": {
        "colab": {
          "base_uri": "https://localhost:8080/",
          "height": 265
        },
        "id": "ug0wTSN2z_qN",
        "outputId": "7b573828-0c6c-43a3-ddeb-42b7ed618ae0"
      },
      "execution_count": null,
      "outputs": [
        {
          "output_type": "display_data",
          "data": {
            "image/png": "[encoded data removed]",
            "text/plain": [
              "<Figure size 432x288 with 1 Axes>"
            ]
          },
          "metadata": {
            "needs_background": "light"
          }
        }
      ]
    },
    {
      "cell_type": "code",
      "source": [
        "# Сгенерируем новый игровой эпизод\n",
        "\n",
        "statesList,upDownActionList,rewardsList,networkOutputList = generateEpisode(policyNetworkModel)\n",
        "print(\"Количество состояний среды = \"+str(len(statesList)))\n",
        "print(\"Форма состояний среды = \"+str(statesList[0].shape))\n",
        "print(\"Список наград  = \"+str(len(rewardsList)))"
      ],
      "metadata": {
        "colab": {
          "base_uri": "https://localhost:8080/"
        },
        "id": "zDtPBZLe0B7P",
        "outputId": "d319930d-99b4-4dde-f8ad-61fac0a41827"
      },
      "execution_count": null,
      "outputs": [
        {
          "output_type": "stream",
          "name": "stdout",
          "text": [
            "Количество состояний среды = 1105\n",
            "Форма состояний среды = (80, 80)\n",
            "Список наград  = 1105\n"
          ]
        }
      ]
    },
    {
      "cell_type": "code",
      "source": [
        "# Данные для тренировки\n",
        "\n",
        "x = np.array(statesList)\n",
        "episodeReward = np.expand_dims(processRewards(rewardsList), 1)\n",
        "yTmp = np.array(upDownActionList)\n",
        "yTrue = np.expand_dims(yTmp, 1)\n",
        "print(\"Форма наград за эпизод =\", episodeReward.shape)\n",
        "print(\"Форма состояний среды =\", x.shape)\n",
        "print(\"Форма фактических движений =\", yTrue.shape)"
      ],
      "metadata": {
        "colab": {
          "base_uri": "https://localhost:8080/"
        },
        "id": "WWnVyMjA0LFg",
        "outputId": "5155f075-6dc2-4403-bb8a-10b0f21671c3"
      },
      "execution_count": null,
      "outputs": [
        {
          "output_type": "stream",
          "name": "stdout",
          "text": [
            "Форма наград за эпизод = (1105, 1)\n",
            "Форма состояний среды = (1105, 80, 80)\n",
            "Форма фактических движений = (1105, 1)\n"
          ]
        }
      ]
    },
    {
      "cell_type": "code",
      "source": [
        "episodeReward[:20]"
      ],
      "metadata": {
        "colab": {
          "base_uri": "https://localhost:8080/"
        },
        "id": "MuKg-L7h0OSD",
        "outputId": "7cc615ad-564a-404b-e3a1-f1352bc5facc"
      },
      "execution_count": null,
      "outputs": [
        {
          "output_type": "execute_result",
          "data": {
            "text/plain": [
              "array([[2.1773274],\n",
              "       [2.147766 ],\n",
              "       [2.117906 ],\n",
              "       [2.0877445],\n",
              "       [2.0572782],\n",
              "       [2.0265043],\n",
              "       [1.9954195],\n",
              "       [1.9640208],\n",
              "       [1.9323049],\n",
              "       [1.9002684],\n",
              "       [1.8679086],\n",
              "       [1.8352218],\n",
              "       [1.8022048],\n",
              "       [1.7688543],\n",
              "       [1.7351669],\n",
              "       [1.7011395],\n",
              "       [1.666768 ],\n",
              "       [1.6320497],\n",
              "       [1.5969803],\n",
              "       [1.5615569]], dtype=float32)"
            ]
          },
          "metadata": {},
          "execution_count": 25
        }
      ]
    },
    {
      "cell_type": "code",
      "source": [
        "# Загружаем в модель новые 'x' и 'y'\n",
        "\n",
        "policyNetworkTrain.fit(x=[x, episodeReward], y=yTrue)"
      ],
      "metadata": {
        "colab": {
          "base_uri": "https://localhost:8080/"
        },
        "id": "lvCqnbPX0QsM",
        "outputId": "9fbc77d5-cbcc-407c-8742-8d2e9557245c"
      },
      "execution_count": null,
      "outputs": [
        {
          "output_type": "stream",
          "name": "stdout",
          "text": [
            "Train on 1105 samples\n",
            "1105/1105 [==============================] - 0s 211us/sample - loss: -0.0013\n"
          ]
        },
        {
          "output_type": "execute_result",
          "data": {
            "text/plain": [
              "<keras.callbacks.History at 0x7ff9b2494710>"
            ]
          },
          "metadata": {},
          "execution_count": 26
        }
      ]
    },
    {
      "cell_type": "code",
      "source": [
        "# Создаём серию игровых эпизодов и загружаем в нейронку\n",
        "\n",
        "def generateEpisodeBatchesTraining(model, nBatches=10):\n",
        "  env = gym.make('Pong-v0')\n",
        "  batchStateList = []\n",
        "  batchUpDownActionList = []\n",
        "  batchRewardsList = []\n",
        "  batchNetworkOutputList = []\n",
        "  for i in range(nBatches):\n",
        "    statesList, upDownActionList, rewardsList, networkOutputList = generateEpisode(model)\n",
        "    batchStateList.extend(statesList)\n",
        "    batchNetworkOutputList.extend(networkOutputList)\n",
        "    batchUpDownActionList.extend(upDownActionList)\n",
        "    batchRewardsList.extend(rewardsList)\n",
        " \n",
        "  episodeReward = np.expand_dims(processRewards(batchRewardsList), 1)\n",
        "  x = np.array(batchStateList)\n",
        "  yTmp = np.array(batchUpDownActionList)\n",
        "  yTrue = np.expand_dims(yTmp, 1)\n",
        "  \n",
        "  history = policyNetworkTrain.fit(x=[x,episodeReward], y=yTrue, epochs=5, verbose=0)\n",
        "  \n",
        "  batchLoss = history.history['loss'][-1]\n",
        "  return batchStateList, batchUpDownActionList, batchRewardsList, batchNetworkOutputList, batchLoss"
      ],
      "metadata": {
        "id": "OboOo33j0TjY"
      },
      "execution_count": null,
      "outputs": []
    },
    {
      "cell_type": "code",
      "source": [
        "# Тренируем нейронку - 10 тренировок\n",
        "\n",
        "trainingTimes = 10\n",
        "for training in range(trainingTimes):\n",
        "  startTime = time.time()\n",
        "  statesList,upDownActionList,rewardsList,networkOutputList, batchLoss = generateEpisodeBatchesTraining(policyNetworkModel, 10)\n",
        "  endTime = time.time()\n",
        "  print(\"Тренировка = \" + str((training)+1))\n",
        "  print(\"Время тренировки = \" + str(round(endTime - startTime))+\"сек\")\n",
        "  print(\"Ошибка на тренировке = \" + str(round(batchLoss, 5)))\n",
        "  rr=np.array(rewardsList)\n",
        "  print(\"Выиграли очков = \"+ str(len(rr[rr>0])) + \" Проиграли очков = \" + str(len(rr[rr<0])))\n",
        "  print(\"\")\n",
        "  if training % 10 == 0:\n",
        "    policyNetworkModel.save(\"policyNetworkModel.h5\")\n",
        "    policyNetworkModel.save(\"policyNetworkModel\" + str(training)+\".h5\")\n",
        "    with open('rewardsModelSimple.txt','a') as recordingRewards:\n",
        "      recordingRewards.write(\"training = \" + str(training) + 'выигранных очков = ' + str(len(rr[rr > 0])))\n",
        "      recordingRewards.write(\"\\n\")"
      ],
      "metadata": {
        "colab": {
          "base_uri": "https://localhost:8080/"
        },
        "id": "HHqpAda90X2Z",
        "outputId": "36a84c35-752e-4193-b29a-cc6a7c87be7b"
      },
      "execution_count": null,
      "outputs": [
        {
          "output_type": "stream",
          "name": "stdout",
          "text": [
            "Тренировка = 1\n",
            "Время тренировки = 106сек\n",
            "Ошибка на тренировке = -0.09032\n",
            "Выиграли очков = 55 Проиграли очков = 210\n",
            "\n",
            "Тренировка = 2\n",
            "Время тренировки = 83сек\n",
            "Ошибка на тренировке = -0.10013\n",
            "Выиграли очков = 45 Проиграли очков = 210\n",
            "\n",
            "Тренировка = 3\n",
            "Время тренировки = 104сек\n",
            "Ошибка на тренировке = -0.08598\n",
            "Выиграли очков = 45 Проиграли очков = 210\n",
            "\n",
            "Тренировка = 4\n",
            "Время тренировки = 98сек\n",
            "Ошибка на тренировке = -0.08934\n",
            "Выиграли очков = 49 Проиграли очков = 210\n",
            "\n",
            "Тренировка = 5\n",
            "Время тренировки = 87сек\n",
            "Ошибка на тренировке = -0.07106\n",
            "Выиграли очков = 30 Проиграли очков = 210\n",
            "\n",
            "Тренировка = 6\n",
            "Время тренировки = 126сек\n",
            "Ошибка на тренировке = -0.08429\n",
            "Выиграли очков = 68 Проиграли очков = 210\n",
            "\n",
            "Тренировка = 7\n",
            "Время тренировки = 123сек\n",
            "Ошибка на тренировке = -0.07099\n",
            "Выиграли очков = 58 Проиграли очков = 210\n",
            "\n",
            "Тренировка = 8\n",
            "Время тренировки = 94сек\n",
            "Ошибка на тренировке = -0.0811\n",
            "Выиграли очков = 34 Проиграли очков = 210\n",
            "\n",
            "Тренировка = 9\n",
            "Время тренировки = 101сек\n",
            "Ошибка на тренировке = -0.09925\n",
            "Выиграли очков = 40 Проиграли очков = 210\n",
            "\n",
            "Тренировка = 10\n",
            "Время тренировки = 130сек\n",
            "Ошибка на тренировке = -0.08823\n",
            "Выиграли очков = 58 Проиграли очков = 210\n",
            "\n"
          ]
        }
      ]
    },
    {
      "cell_type": "code",
      "source": [
        "# Тренируем нейронку - 20 тренировок\n",
        "\n",
        "trainingTimes = 20\n",
        "for training in range(trainingTimes):\n",
        "  startTime = time.time()\n",
        "  statesList,upDownActionList,rewardsList,networkOutputList, batchLoss = generateEpisodeBatchesTraining(policyNetworkModel, 10)\n",
        "  endTime = time.time()\n",
        "  print(\"Тренировка = \" + str((training)+1))\n",
        "  print(\"Время тренировки = \" + str(round(endTime - startTime))+\"сек\")\n",
        "  print(\"Ошибка на тренировке = \" + str(round(batchLoss, 5)))\n",
        "  rr=np.array(rewardsList)\n",
        "  print(\"Выиграли очков = \"+ str(len(rr[rr>0])) + \" Проиграли очков = \" + str(len(rr[rr<0])))\n",
        "  print(\"\")\n",
        "  if training % 10 == 0:\n",
        "    policyNetworkModel.save(\"policyNetworkModel.h5\")\n",
        "    policyNetworkModel.save(\"policyNetworkModel\" + str(training)+\".h5\")\n",
        "    with open('rewardsModelSimple.txt','a') as recordingRewards:\n",
        "      recordingRewards.write(\"training = \" + str(training) + 'выигранных очков = ' + str(len(rr[rr > 0])))\n",
        "      recordingRewards.write(\"\\n\")"
      ],
      "metadata": {
        "colab": {
          "base_uri": "https://localhost:8080/"
        },
        "id": "7vMAm9DyA4Mz",
        "outputId": "1ff88cba-504b-48d5-c02a-bada65735cb7"
      },
      "execution_count": null,
      "outputs": [
        {
          "output_type": "stream",
          "name": "stdout",
          "text": [
            "Тренировка = 1\n",
            "Время тренировки = 115сек\n",
            "Ошибка на тренировке = -0.09098\n",
            "Выиграли очков = 71 Проиграли очков = 210\n",
            "\n",
            "Тренировка = 2\n",
            "Время тренировки = 112сек\n",
            "Ошибка на тренировке = -0.09331\n",
            "Выиграли очков = 52 Проиграли очков = 210\n",
            "\n",
            "Тренировка = 3\n",
            "Время тренировки = 106сек\n",
            "Ошибка на тренировке = -0.07063\n",
            "Выиграли очков = 65 Проиграли очков = 210\n",
            "\n",
            "Тренировка = 4\n",
            "Время тренировки = 96сек\n",
            "Ошибка на тренировке = -0.06282\n",
            "Выиграли очков = 52 Проиграли очков = 210\n",
            "\n",
            "Тренировка = 5\n",
            "Время тренировки = 84сек\n",
            "Ошибка на тренировке = -0.08929\n",
            "Выиграли очков = 45 Проиграли очков = 210\n",
            "\n",
            "Тренировка = 6\n",
            "Время тренировки = 96сек\n",
            "Ошибка на тренировке = -0.06683\n",
            "Выиграли очков = 46 Проиграли очков = 210\n",
            "\n",
            "Тренировка = 7\n",
            "Время тренировки = 110сек\n",
            "Ошибка на тренировке = -0.07599\n",
            "Выиграли очков = 41 Проиграли очков = 210\n",
            "\n",
            "Тренировка = 8\n",
            "Время тренировки = 110сек\n",
            "Ошибка на тренировке = -0.09161\n",
            "Выиграли очков = 52 Проиграли очков = 210\n",
            "\n",
            "Тренировка = 9\n",
            "Время тренировки = 104сек\n",
            "Ошибка на тренировке = -0.09277\n",
            "Выиграли очков = 54 Проиграли очков = 210\n",
            "\n",
            "Тренировка = 10\n",
            "Время тренировки = 108сек\n",
            "Ошибка на тренировке = -0.11015\n",
            "Выиграли очков = 73 Проиграли очков = 210\n",
            "\n",
            "Тренировка = 11\n",
            "Время тренировки = 115сек\n",
            "Ошибка на тренировке = -0.07772\n",
            "Выиграли очков = 63 Проиграли очков = 210\n",
            "\n",
            "Тренировка = 12\n",
            "Время тренировки = 116сек\n",
            "Ошибка на тренировке = -0.0871\n",
            "Выиграли очков = 68 Проиграли очков = 210\n",
            "\n",
            "Тренировка = 13\n",
            "Время тренировки = 110сек\n",
            "Ошибка на тренировке = -0.09876\n",
            "Выиграли очков = 72 Проиграли очков = 210\n",
            "\n",
            "Тренировка = 14\n",
            "Время тренировки = 104сек\n",
            "Ошибка на тренировке = -0.10224\n",
            "Выиграли очков = 64 Проиграли очков = 210\n",
            "\n",
            "Тренировка = 15\n",
            "Время тренировки = 100сек\n",
            "Ошибка на тренировке = -0.10421\n",
            "Выиграли очков = 54 Проиграли очков = 210\n",
            "\n",
            "Тренировка = 16\n",
            "Время тренировки = 109сек\n",
            "Ошибка на тренировке = -0.13635\n",
            "Выиграли очков = 82 Проиграли очков = 210\n",
            "\n",
            "Тренировка = 17\n",
            "Время тренировки = 93сек\n",
            "Ошибка на тренировке = -0.08588\n",
            "Выиграли очков = 49 Проиграли очков = 210\n",
            "\n",
            "Тренировка = 18\n",
            "Время тренировки = 111сек\n",
            "Ошибка на тренировке = -0.10918\n",
            "Выиграли очков = 69 Проиграли очков = 210\n",
            "\n",
            "Тренировка = 19\n",
            "Время тренировки = 106сек\n",
            "Ошибка на тренировке = -0.13307\n",
            "Выиграли очков = 57 Проиграли очков = 210\n",
            "\n",
            "Тренировка = 20\n",
            "Время тренировки = 110сек\n",
            "Ошибка на тренировке = -0.09894\n",
            "Выиграли очков = 58 Проиграли очков = 210\n",
            "\n"
          ]
        }
      ]
    },
    {
      "cell_type": "code",
      "source": [
        "# Тренируем нейронку - 30 тренировок\n",
        "\n",
        "trainingTimes = 30\n",
        "for training in range(trainingTimes):\n",
        "  startTime = time.time()\n",
        "  statesList,upDownActionList,rewardsList,networkOutputList, batchLoss = generateEpisodeBatchesTraining(policyNetworkModel, 10)\n",
        "  endTime = time.time()\n",
        "  print(\"Тренировка = \" + str((training)+1))\n",
        "  print(\"Время тренировки = \" + str(round(endTime - startTime))+\"сек\")\n",
        "  print(\"Ошибка на тренировке = \" + str(round(batchLoss, 5)))\n",
        "  rr=np.array(rewardsList)\n",
        "  print(\"Выиграли очков = \"+ str(len(rr[rr>0])) + \" Проиграли очков = \" + str(len(rr[rr<0])))\n",
        "  print(\"\")\n",
        "  if training % 10 == 0:\n",
        "    policyNetworkModel.save(\"policyNetworkModel.h5\")\n",
        "    policyNetworkModel.save(\"policyNetworkModel\" + str(training)+\".h5\")\n",
        "    with open('rewardsModelSimple.txt','a') as recordingRewards:\n",
        "      recordingRewards.write(\"training = \" + str(training) + 'выигранных очков = ' + str(len(rr[rr > 0])))\n",
        "      recordingRewards.write(\"\\n\")"
      ],
      "metadata": {
        "colab": {
          "base_uri": "https://localhost:8080/"
        },
        "id": "SZS2QX4lJMtE",
        "outputId": "05532cd0-5b27-4ea8-a5e4-ea9f7f4f32a1"
      },
      "execution_count": null,
      "outputs": [
        {
          "output_type": "stream",
          "name": "stdout",
          "text": [
            "Тренировка = 1\n",
            "Время тренировки = 129сек\n",
            "Ошибка на тренировке = -0.09388\n",
            "Выиграли очков = 84 Проиграли очков = 210\n",
            "\n",
            "Тренировка = 2\n",
            "Время тренировки = 96сек\n",
            "Ошибка на тренировке = -0.10317\n",
            "Выиграли очков = 64 Проиграли очков = 210\n",
            "\n",
            "Тренировка = 3\n",
            "Время тренировки = 92сек\n",
            "Ошибка на тренировке = -0.11153\n",
            "Выиграли очков = 42 Проиграли очков = 210\n",
            "\n",
            "Тренировка = 4\n",
            "Время тренировки = 111сек\n",
            "Ошибка на тренировке = -0.10993\n",
            "Выиграли очков = 78 Проиграли очков = 210\n",
            "\n",
            "Тренировка = 5\n",
            "Время тренировки = 102сек\n",
            "Ошибка на тренировке = -0.10644\n",
            "Выиграли очков = 47 Проиграли очков = 210\n",
            "\n",
            "Тренировка = 6\n",
            "Время тренировки = 94сек\n",
            "Ошибка на тренировке = -0.09336\n",
            "Выиграли очков = 36 Проиграли очков = 210\n",
            "\n",
            "Тренировка = 7\n",
            "Время тренировки = 107сек\n",
            "Ошибка на тренировке = -0.10838\n",
            "Выиграли очков = 53 Проиграли очков = 210\n",
            "\n",
            "Тренировка = 8\n",
            "Время тренировки = 99сек\n",
            "Ошибка на тренировке = -0.13686\n",
            "Выиграли очков = 67 Проиграли очков = 210\n",
            "\n",
            "Тренировка = 9\n",
            "Время тренировки = 97сек\n",
            "Ошибка на тренировке = -0.14172\n",
            "Выиграли очков = 39 Проиграли очков = 210\n",
            "\n",
            "Тренировка = 10\n",
            "Время тренировки = 112сек\n",
            "Ошибка на тренировке = -0.14068\n",
            "Выиграли очков = 48 Проиграли очков = 210\n",
            "\n",
            "Тренировка = 11\n",
            "Время тренировки = 101сек\n",
            "Ошибка на тренировке = -0.10153\n",
            "Выиграли очков = 54 Проиграли очков = 210\n",
            "\n",
            "Тренировка = 12\n",
            "Время тренировки = 99сек\n",
            "Ошибка на тренировке = -0.15596\n",
            "Выиграли очков = 50 Проиграли очков = 210\n",
            "\n",
            "Тренировка = 13\n",
            "Время тренировки = 102сек\n",
            "Ошибка на тренировке = -0.0885\n",
            "Выиграли очков = 56 Проиграли очков = 210\n",
            "\n",
            "Тренировка = 14\n",
            "Время тренировки = 129сек\n",
            "Ошибка на тренировке = -0.12924\n",
            "Выиграли очков = 67 Проиграли очков = 210\n",
            "\n",
            "Тренировка = 15\n",
            "Время тренировки = 112сек\n",
            "Ошибка на тренировке = -0.14434\n",
            "Выиграли очков = 65 Проиграли очков = 210\n",
            "\n",
            "Тренировка = 16\n",
            "Время тренировки = 120сек\n",
            "Ошибка на тренировке = -0.19228\n",
            "Выиграли очков = 76 Проиграли очков = 210\n",
            "\n",
            "Тренировка = 17\n",
            "Время тренировки = 111сек\n",
            "Ошибка на тренировке = -0.10055\n",
            "Выиграли очков = 54 Проиграли очков = 210\n",
            "\n",
            "Тренировка = 18\n",
            "Время тренировки = 88сек\n",
            "Ошибка на тренировке = -0.09306\n",
            "Выиграли очков = 27 Проиграли очков = 210\n",
            "\n",
            "Тренировка = 19\n",
            "Время тренировки = 126сек\n",
            "Ошибка на тренировке = -0.09178\n",
            "Выиграли очков = 61 Проиграли очков = 210\n",
            "\n",
            "Тренировка = 20\n",
            "Время тренировки = 103сек\n",
            "Ошибка на тренировке = -0.08325\n",
            "Выиграли очков = 49 Проиграли очков = 210\n",
            "\n",
            "Тренировка = 21\n",
            "Время тренировки = 109сек\n",
            "Ошибка на тренировке = -0.10358\n",
            "Выиграли очков = 51 Проиграли очков = 210\n",
            "\n",
            "Тренировка = 22\n",
            "Время тренировки = 96сек\n",
            "Ошибка на тренировке = -0.10655\n",
            "Выиграли очков = 49 Проиграли очков = 210\n",
            "\n",
            "Тренировка = 23\n",
            "Время тренировки = 92сек\n",
            "Ошибка на тренировке = -0.09762\n",
            "Выиграли очков = 41 Проиграли очков = 210\n",
            "\n",
            "Тренировка = 24\n",
            "Время тренировки = 121сек\n",
            "Ошибка на тренировке = -0.09894\n",
            "Выиграли очков = 58 Проиграли очков = 210\n",
            "\n",
            "Тренировка = 25\n",
            "Время тренировки = 110сек\n",
            "Ошибка на тренировке = -0.15345\n",
            "Выиграли очков = 81 Проиграли очков = 210\n",
            "\n",
            "Тренировка = 26\n",
            "Время тренировки = 72сек\n",
            "Ошибка на тренировке = -0.1149\n",
            "Выиграли очков = 24 Проиграли очков = 210\n",
            "\n",
            "Тренировка = 27\n",
            "Время тренировки = 104сек\n",
            "Ошибка на тренировке = -0.13236\n",
            "Выиграли очков = 58 Проиграли очков = 210\n",
            "\n",
            "Тренировка = 28\n",
            "Время тренировки = 106сек\n",
            "Ошибка на тренировке = -0.15397\n",
            "Выиграли очков = 64 Проиграли очков = 210\n",
            "\n",
            "Тренировка = 29\n",
            "Время тренировки = 93сек\n",
            "Ошибка на тренировке = -0.11435\n",
            "Выиграли очков = 53 Проиграли очков = 210\n",
            "\n",
            "Тренировка = 30\n",
            "Время тренировки = 99сек\n",
            "Ошибка на тренировке = -0.10855\n",
            "Выиграли очков = 63 Проиграли очков = 210\n",
            "\n"
          ]
        }
      ]
    },
    {
      "cell_type": "code",
      "source": [
        "# Нейронка 2.1 - изменим количество связей в Dense слое. Увеличил до 333.\n",
        "\n",
        "inputs = Input(shape=(80,80))\n",
        "flattenedLayer = Flatten()(inputs)\n",
        "fullConnected = Dense(333, activation='relu', use_bias=False)(flattenedLayer)\n",
        "sigmoidOutput = Dense(1, activation='sigmoid', use_bias=False)(fullConnected)\n",
        "policyNetworkModel = Model(inputs=inputs, outputs=sigmoidOutput)\n",
        "policyNetworkModel.summary()"
      ],
      "metadata": {
        "colab": {
          "base_uri": "https://localhost:8080/"
        },
        "id": "4hS_l5Z_VSB-",
        "outputId": "355b9a77-56ad-4c22-f94d-04234d535e9b"
      },
      "execution_count": null,
      "outputs": [
        {
          "output_type": "stream",
          "name": "stdout",
          "text": [
            "Model: \"model_2\"\n",
            "_________________________________________________________________\n",
            " Layer (type)                Output Shape              Param #   \n",
            "=================================================================\n",
            " input_2 (InputLayer)        [(None, 80, 80)]          0         \n",
            "                                                                 \n",
            " flatten_1 (Flatten)         (None, 6400)              0         \n",
            "                                                                 \n",
            " dense_2 (Dense)             (None, 333)               2131200   \n",
            "                                                                 \n",
            " dense_3 (Dense)             (None, 1)                 333       \n",
            "                                                                 \n",
            "=================================================================\n",
            "Total params: 2,131,533\n",
            "Trainable params: 2,131,533\n",
            "Non-trainable params: 0\n",
            "_________________________________________________________________\n"
          ]
        }
      ]
    },
    {
      "cell_type": "code",
      "source": [
        "# Тренируем нейронку 2.1 - 15 тренировок\n",
        "\n",
        "trainingTimes = 15\n",
        "for training in range(trainingTimes):\n",
        "  startTime = time.time()\n",
        "  statesList,upDownActionList,rewardsList,networkOutputList, batchLoss = generateEpisodeBatchesTraining(policyNetworkModel, 10)\n",
        "  endTime = time.time()\n",
        "  print(\"Тренировка = \" + str((training)+1))\n",
        "  print(\"Время тренировки = \" + str(round(endTime - startTime))+\"сек\")\n",
        "  print(\"Ошибка на тренировке = \" + str(round(batchLoss, 5)))\n",
        "  rr=np.array(rewardsList)\n",
        "  print(\"Выиграли очков = \"+ str(len(rr[rr>0])) + \" Проиграли очков = \" + str(len(rr[rr<0])))\n",
        "  print(\"\")\n",
        "  if training % 10 == 0:\n",
        "    policyNetworkModel.save(\"policyNetworkModel.h5\")\n",
        "    policyNetworkModel.save(\"policyNetworkModel\" + str(training)+\".h5\")\n",
        "    with open('rewardsModelSimple.txt','a') as recordingRewards:\n",
        "      recordingRewards.write(\"training = \" + str(training) + 'выигранных очков = ' + str(len(rr[rr > 0])))\n",
        "      recordingRewards.write(\"\\n\")"
      ],
      "metadata": {
        "colab": {
          "base_uri": "https://localhost:8080/"
        },
        "id": "uimcNfPFVa6J",
        "outputId": "1d8244b7-9de7-40e0-d78c-1aa981f9446b"
      },
      "execution_count": null,
      "outputs": [
        {
          "output_type": "stream",
          "name": "stderr",
          "text": [
            "/usr/local/lib/python3.7/dist-packages/keras/engine/training_v1.py:2079: UserWarning: `Model.state_updates` will be removed in a future version. This property should not be used in TensorFlow 2.0, as `updates` are applied automatically.\n",
            "  updates=self.state_updates,\n"
          ]
        },
        {
          "output_type": "stream",
          "name": "stdout",
          "text": [
            "Тренировка = 1\n",
            "Время тренировки = 48сек\n",
            "Ошибка на тренировке = -0.0486\n",
            "Выиграли очков = 4 Проиграли очков = 210\n",
            "\n",
            "Тренировка = 2\n",
            "Время тренировки = 53сек\n",
            "Ошибка на тренировке = -0.0522\n",
            "Выиграли очков = 11 Проиграли очков = 210\n",
            "\n",
            "Тренировка = 3\n",
            "Время тренировки = 44сек\n",
            "Ошибка на тренировке = -0.0877\n",
            "Выиграли очков = 0 Проиграли очков = 210\n",
            "\n",
            "Тренировка = 4\n",
            "Время тренировки = 47сек\n",
            "Ошибка на тренировке = -0.07345\n",
            "Выиграли очков = 2 Проиграли очков = 210\n",
            "\n",
            "Тренировка = 5\n",
            "Время тренировки = 46сек\n",
            "Ошибка на тренировке = -0.04363\n",
            "Выиграли очков = 4 Проиграли очков = 210\n",
            "\n",
            "Тренировка = 6\n",
            "Время тренировки = 45сек\n",
            "Ошибка на тренировке = -0.09661\n",
            "Выиграли очков = 2 Проиграли очков = 210\n",
            "\n",
            "Тренировка = 7\n",
            "Время тренировки = 45сек\n",
            "Ошибка на тренировке = -0.05095\n",
            "Выиграли очков = 4 Проиграли очков = 210\n",
            "\n",
            "Тренировка = 8\n",
            "Время тренировки = 46сек\n",
            "Ошибка на тренировке = -0.08673\n",
            "Выиграли очков = 0 Проиграли очков = 210\n",
            "\n",
            "Тренировка = 9\n",
            "Время тренировки = 48сек\n",
            "Ошибка на тренировке = -0.05732\n",
            "Выиграли очков = 7 Проиграли очков = 210\n",
            "\n",
            "Тренировка = 10\n",
            "Время тренировки = 45сек\n",
            "Ошибка на тренировке = -0.07235\n",
            "Выиграли очков = 3 Проиграли очков = 210\n",
            "\n",
            "Тренировка = 11\n",
            "Время тренировки = 44сек\n",
            "Ошибка на тренировке = -0.0578\n",
            "Выиграли очков = 2 Проиграли очков = 210\n",
            "\n",
            "Тренировка = 12\n",
            "Время тренировки = 48сек\n",
            "Ошибка на тренировке = -0.0436\n",
            "Выиграли очков = 9 Проиграли очков = 210\n",
            "\n",
            "Тренировка = 13\n",
            "Время тренировки = 42сек\n",
            "Ошибка на тренировке = -0.08794\n",
            "Выиграли очков = 4 Проиграли очков = 210\n",
            "\n",
            "Тренировка = 14\n",
            "Время тренировки = 44сек\n",
            "Ошибка на тренировке = -0.09912\n",
            "Выиграли очков = 0 Проиграли очков = 210\n",
            "\n",
            "Тренировка = 15\n",
            "Время тренировки = 47сек\n",
            "Ошибка на тренировке = -0.06806\n",
            "Выиграли очков = 4 Проиграли очков = 210\n",
            "\n"
          ]
        }
      ]
    },
    {
      "cell_type": "code",
      "source": [
        "# Нейронка 2.2 - изменим количество связей в Dense слое. Увеличил до 333. Добавил Dense слой.\n",
        "\n",
        "inputs = Input(shape=(80,80))\n",
        "fullConnected = Flatten()(inputs)\n",
        "fullConnected = Dense(333, activation='relu', use_bias=False)(fullConnected)\n",
        "fullConnected = Dense(555, activation='relu', use_bias=False)(fullConnected)\n",
        "sigmoidOutput = Dense(1, activation='sigmoid', use_bias=False)(fullConnected)\n",
        "policyNetworkModel = Model(inputs=inputs, outputs=sigmoidOutput)\n",
        "policyNetworkModel.summary()"
      ],
      "metadata": {
        "colab": {
          "base_uri": "https://localhost:8080/"
        },
        "id": "QfXY_cFxctoD",
        "outputId": "8c81eb68-7181-425e-ed7a-3d59e8fb5580"
      },
      "execution_count": null,
      "outputs": [
        {
          "output_type": "stream",
          "name": "stdout",
          "text": [
            "Model: \"model_3\"\n",
            "_________________________________________________________________\n",
            " Layer (type)                Output Shape              Param #   \n",
            "=================================================================\n",
            " input_3 (InputLayer)        [(None, 80, 80)]          0         \n",
            "                                                                 \n",
            " flatten_2 (Flatten)         (None, 6400)              0         \n",
            "                                                                 \n",
            " dense_5 (Dense)             (None, 333)               2131200   \n",
            "                                                                 \n",
            " dense_6 (Dense)             (None, 555)               184815    \n",
            "                                                                 \n",
            " dense_7 (Dense)             (None, 1)                 555       \n",
            "                                                                 \n",
            "=================================================================\n",
            "Total params: 2,316,570\n",
            "Trainable params: 2,316,570\n",
            "Non-trainable params: 0\n",
            "_________________________________________________________________\n"
          ]
        }
      ]
    },
    {
      "cell_type": "code",
      "source": [
        "# Тренируем нейронку 2.2 - 15 тренировок\n",
        "\n",
        "trainingTimes = 15\n",
        "for training in range(trainingTimes):\n",
        "  startTime = time.time()\n",
        "  statesList,upDownActionList,rewardsList,networkOutputList, batchLoss = generateEpisodeBatchesTraining(policyNetworkModel, 10)\n",
        "  endTime = time.time()\n",
        "  print(\"Тренировка = \" + str((training)+1))\n",
        "  print(\"Время тренировки = \" + str(round(endTime - startTime))+\"сек\")\n",
        "  print(\"Ошибка на тренировке = \" + str(round(batchLoss, 5)))\n",
        "  rr=np.array(rewardsList)\n",
        "  print(\"Выиграли очков = \"+ str(len(rr[rr>0])) + \" Проиграли очков = \" + str(len(rr[rr<0])))\n",
        "  print(\"\")\n",
        "  if training % 10 == 0:\n",
        "    policyNetworkModel.save(\"policyNetworkModel.h5\")\n",
        "    policyNetworkModel.save(\"policyNetworkModel\" + str(training)+\".h5\")\n",
        "    with open('rewardsModelSimple.txt','a') as recordingRewards:\n",
        "      recordingRewards.write(\"training = \" + str(training) + 'выигранных очков = ' + str(len(rr[rr > 0])))\n",
        "      recordingRewards.write(\"\\n\")"
      ],
      "metadata": {
        "colab": {
          "base_uri": "https://localhost:8080/"
        },
        "id": "KZBTVCvxcxYg",
        "outputId": "4f4f6ce5-ae84-4b2b-ea20-1b07df3094b1"
      },
      "execution_count": null,
      "outputs": [
        {
          "output_type": "stream",
          "name": "stderr",
          "text": [
            "/usr/local/lib/python3.7/dist-packages/keras/engine/training_v1.py:2079: UserWarning: `Model.state_updates` will be removed in a future version. This property should not be used in TensorFlow 2.0, as `updates` are applied automatically.\n",
            "  updates=self.state_updates,\n"
          ]
        },
        {
          "output_type": "stream",
          "name": "stdout",
          "text": [
            "Тренировка = 1\n",
            "Время тренировки = 47сек\n",
            "Ошибка на тренировке = -0.02945\n",
            "Выиграли очков = 4 Проиграли очков = 210\n",
            "\n",
            "Тренировка = 2\n",
            "Время тренировки = 46сек\n",
            "Ошибка на тренировке = -0.05955\n",
            "Выиграли очков = 4 Проиграли очков = 210\n",
            "\n",
            "Тренировка = 3\n",
            "Время тренировки = 45сек\n",
            "Ошибка на тренировке = -0.09073\n",
            "Выиграли очков = 3 Проиграли очков = 210\n",
            "\n",
            "Тренировка = 4\n",
            "Время тренировки = 46сек\n",
            "Ошибка на тренировке = -0.11619\n",
            "Выиграли очков = 2 Проиграли очков = 210\n",
            "\n",
            "Тренировка = 5\n",
            "Время тренировки = 48сек\n",
            "Ошибка на тренировке = -0.1052\n",
            "Выиграли очков = 5 Проиграли очков = 210\n",
            "\n",
            "Тренировка = 6\n",
            "Время тренировки = 44сек\n",
            "Ошибка на тренировке = -0.12382\n",
            "Выиграли очков = 3 Проиграли очков = 210\n",
            "\n",
            "Тренировка = 7\n",
            "Время тренировки = 43сек\n",
            "Ошибка на тренировке = -0.08912\n",
            "Выиграли очков = 3 Проиграли очков = 210\n",
            "\n",
            "Тренировка = 8\n",
            "Время тренировки = 50сек\n",
            "Ошибка на тренировке = -0.08712\n",
            "Выиграли очков = 9 Проиграли очков = 210\n",
            "\n",
            "Тренировка = 9\n",
            "Время тренировки = 46сек\n",
            "Ошибка на тренировке = -0.09175\n",
            "Выиграли очков = 6 Проиграли очков = 210\n",
            "\n",
            "Тренировка = 10\n",
            "Время тренировки = 47сек\n",
            "Ошибка на тренировке = -0.09723\n",
            "Выиграли очков = 7 Проиграли очков = 210\n",
            "\n",
            "Тренировка = 11\n",
            "Время тренировки = 46сек\n",
            "Ошибка на тренировке = -0.06876\n",
            "Выиграли очков = 8 Проиграли очков = 210\n",
            "\n",
            "Тренировка = 12\n",
            "Время тренировки = 47сек\n",
            "Ошибка на тренировке = -0.11395\n",
            "Выиграли очков = 4 Проиграли очков = 210\n",
            "\n",
            "Тренировка = 13\n",
            "Время тренировки = 49сек\n",
            "Ошибка на тренировке = -0.08182\n",
            "Выиграли очков = 6 Проиграли очков = 210\n",
            "\n",
            "Тренировка = 14\n",
            "Время тренировки = 48сек\n",
            "Ошибка на тренировке = -0.1123\n",
            "Выиграли очков = 4 Проиграли очков = 210\n",
            "\n",
            "Тренировка = 15\n",
            "Время тренировки = 47сек\n",
            "Ошибка на тренировке = -0.08196\n",
            "Выиграли очков = 6 Проиграли очков = 210\n",
            "\n"
          ]
        }
      ]
    },
    {
      "cell_type": "code",
      "source": [
        "# Нейронка 2.3 - изменим количество связей в Dense слое. Увеличил до 333. Добавил Dense слой. Добавил Conv слой.\n",
        "\n",
        "inputs = Input(shape=(80,80))\n",
        "fullConnected = Conv1D(2, 2, padding='same', activation='relu', use_bias=False)(inputs)\n",
        "fullConnected = Flatten()(fullConnected)\n",
        "fullConnected = Dense(333, activation='relu', use_bias=False)(fullConnected)\n",
        "fullConnected = Dense(555, activation='relu', use_bias=False)(fullConnected)\n",
        "sigmoidOutput = Dense(1, activation='sigmoid', use_bias=False)(fullConnected)\n",
        "policyNetworkModel = Model(inputs=inputs, outputs=sigmoidOutput)\n",
        "policyNetworkModel.summary()"
      ],
      "metadata": {
        "colab": {
          "base_uri": "https://localhost:8080/"
        },
        "id": "bWSS6gsCi6OK",
        "outputId": "e13020c0-4872-445f-fc15-effff9697e29"
      },
      "execution_count": null,
      "outputs": [
        {
          "output_type": "stream",
          "name": "stdout",
          "text": [
            "Model: \"model_14\"\n",
            "_________________________________________________________________\n",
            " Layer (type)                Output Shape              Param #   \n",
            "=================================================================\n",
            " input_29 (InputLayer)       [(None, 80, 80)]          0         \n",
            "                                                                 \n",
            " conv1d_2 (Conv1D)           (None, 80, 2)             320       \n",
            "                                                                 \n",
            " flatten_22 (Flatten)        (None, 160)               0         \n",
            "                                                                 \n",
            " dense_44 (Dense)            (None, 333)               53280     \n",
            "                                                                 \n",
            " dense_45 (Dense)            (None, 555)               184815    \n",
            "                                                                 \n",
            " dense_46 (Dense)            (None, 1)                 555       \n",
            "                                                                 \n",
            "=================================================================\n",
            "Total params: 238,970\n",
            "Trainable params: 238,970\n",
            "Non-trainable params: 0\n",
            "_________________________________________________________________\n"
          ]
        }
      ]
    },
    {
      "cell_type": "code",
      "source": [
        "# Тренируем нейронку 2.3 - 15 тренировок\n",
        "\n",
        "trainingTimes = 15\n",
        "for training in range(trainingTimes):\n",
        "  startTime = time.time()\n",
        "  statesList,upDownActionList,rewardsList,networkOutputList, batchLoss = generateEpisodeBatchesTraining(policyNetworkModel, 10)\n",
        "  endTime = time.time()\n",
        "  print(\"Тренировка = \" + str((training)+1))\n",
        "  print(\"Время тренировки = \" + str(round(endTime - startTime))+\"сек\")\n",
        "  print(\"Ошибка на тренировке = \" + str(round(batchLoss, 5)))\n",
        "  rr=np.array(rewardsList)\n",
        "  print(\"Выиграли очков = \"+ str(len(rr[rr>0])) + \" Проиграли очков = \" + str(len(rr[rr<0])))\n",
        "  print(\"\")\n",
        "  if training % 10 == 0:\n",
        "    policyNetworkModel.save(\"policyNetworkModel.h5\")\n",
        "    policyNetworkModel.save(\"policyNetworkModel\" + str(training)+\".h5\")\n",
        "    with open('rewardsModelSimple.txt','a') as recordingRewards:\n",
        "      recordingRewards.write(\"training = \" + str(training) + 'выигранных очков = ' + str(len(rr[rr > 0])))\n",
        "      recordingRewards.write(\"\\n\")"
      ],
      "metadata": {
        "colab": {
          "base_uri": "https://localhost:8080/"
        },
        "id": "6Rv04YC0pxAP",
        "outputId": "d9347ce1-b1dd-478f-8834-95fd79fe1394"
      },
      "execution_count": null,
      "outputs": [
        {
          "output_type": "stream",
          "name": "stderr",
          "text": [
            "/usr/local/lib/python3.7/dist-packages/keras/engine/training_v1.py:2079: UserWarning: `Model.state_updates` will be removed in a future version. This property should not be used in TensorFlow 2.0, as `updates` are applied automatically.\n",
            "  updates=self.state_updates,\n"
          ]
        },
        {
          "output_type": "stream",
          "name": "stdout",
          "text": [
            "Тренировка = 1\n",
            "Время тренировки = 54сек\n",
            "Ошибка на тренировке = -0.07199\n",
            "Выиграли очков = 4 Проиграли очков = 210\n",
            "\n",
            "Тренировка = 2\n",
            "Время тренировки = 52сек\n",
            "Ошибка на тренировке = -0.0621\n",
            "Выиграли очков = 5 Проиграли очков = 210\n",
            "\n",
            "Тренировка = 3\n",
            "Время тренировки = 50сек\n",
            "Ошибка на тренировке = -0.0722\n",
            "Выиграли очков = 6 Проиграли очков = 210\n",
            "\n",
            "Тренировка = 4\n",
            "Время тренировки = 51сек\n",
            "Ошибка на тренировке = -0.06846\n",
            "Выиграли очков = 8 Проиграли очков = 210\n",
            "\n",
            "Тренировка = 5\n",
            "Время тренировки = 49сек\n",
            "Ошибка на тренировке = -0.08261\n",
            "Выиграли очков = 2 Проиграли очков = 210\n",
            "\n",
            "Тренировка = 6\n",
            "Время тренировки = 54сек\n",
            "Ошибка на тренировке = -0.05811\n",
            "Выиграли очков = 9 Проиграли очков = 210\n",
            "\n",
            "Тренировка = 7\n",
            "Время тренировки = 53сек\n",
            "Ошибка на тренировке = -0.06964\n",
            "Выиграли очков = 6 Проиграли очков = 210\n",
            "\n",
            "Тренировка = 8\n",
            "Время тренировки = 54сек\n",
            "Ошибка на тренировке = -0.05741\n",
            "Выиграли очков = 11 Проиграли очков = 210\n",
            "\n",
            "Тренировка = 9\n",
            "Время тренировки = 50сек\n",
            "Ошибка на тренировке = -0.08477\n",
            "Выиграли очков = 2 Проиграли очков = 210\n",
            "\n",
            "Тренировка = 10\n",
            "Время тренировки = 50сек\n",
            "Ошибка на тренировке = -0.07385\n",
            "Выиграли очков = 5 Проиграли очков = 210\n",
            "\n",
            "Тренировка = 11\n",
            "Время тренировки = 52сек\n",
            "Ошибка на тренировке = -0.03978\n",
            "Выиграли очков = 8 Проиграли очков = 210\n",
            "\n",
            "Тренировка = 12\n",
            "Время тренировки = 48сек\n",
            "Ошибка на тренировке = -0.05632\n",
            "Выиграли очков = 3 Проиграли очков = 210\n",
            "\n",
            "Тренировка = 13\n",
            "Время тренировки = 50сек\n",
            "Ошибка на тренировке = -0.06379\n",
            "Выиграли очков = 2 Проиграли очков = 210\n",
            "\n",
            "Тренировка = 14\n",
            "Время тренировки = 52сек\n",
            "Ошибка на тренировке = -0.05748\n",
            "Выиграли очков = 9 Проиграли очков = 210\n",
            "\n",
            "Тренировка = 15\n",
            "Время тренировки = 50сек\n",
            "Ошибка на тренировке = -0.0727\n",
            "Выиграли очков = 4 Проиграли очков = 210\n",
            "\n"
          ]
        }
      ]
    },
    {
      "cell_type": "code",
      "source": [
        "# Результаты по последней тренировке\n",
        "\n",
        "1.1 10 тренировок - выиграли очков = 58\n",
        "1.2 20 тренировок - выиграли очков = 58\n",
        "1.3 30 тренировок - выиграли очков = 63\n",
        "2.1 15 тренировок - выиграли очков = 4\n",
        "2.2 15 тренировок - выиграли очков = 6\n",
        "2.3 15 тренировок - выиграли очков = 4"
      ],
      "metadata": {
        "id": "yX4IoZKmRuEm"
      },
      "execution_count": null,
      "outputs": []
    }
  ]
}